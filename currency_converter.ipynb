{
 "cells": [
  {
   "cell_type": "code",
   "execution_count": 1,
   "metadata": {},
   "outputs": [],
   "source": [
    "import tkinter as tk\n",
    "from tkinter import ttk\n",
    "from forex_python.converter import CurrencyRates\n",
    "\n",
    "def convert_currency():\n",
    "    from_currency = from_currency_var.get()\n",
    "    to_currency = to_currency_var.get()\n",
    "    amount = float(amount_entry.get())\n",
    "\n",
    "    c = CurrencyRates()\n",
    "    exchange_rate = c.get_rate(from_currency, to_currency)\n",
    "    converted_amount = amount * exchange_rate\n",
    "\n",
    "    result_label.config(text=f\"{amount} {from_currency} = {converted_amount:.2f} {to_currency}\")\n"
   ]
  },
  {
   "cell_type": "code",
   "execution_count": 2,
   "metadata": {},
   "outputs": [],
   "source": [
    "# Create the main window\n",
    "window = tk.Tk()\n",
    "window.title(\"Currency Converter\")\n",
    "\n",
    "# Currency choices\n",
    "currencies = ['USD', 'INR', 'EUR', 'GBP', 'JPY', 'AUD']  # Add more currencies as needed\n",
    "\n"
   ]
  },
  {
   "cell_type": "code",
   "execution_count": 3,
   "metadata": {},
   "outputs": [],
   "source": [
    "# From Currency Label and Dropdown\n",
    "from_currency_label = tk.Label(window, text=\"From Currency:\")\n",
    "from_currency_label.grid(row=0, column=0, padx=10, pady=5)\n",
    "from_currency_var = tk.StringVar(window)\n",
    "from_currency_var.set(currencies[0])\n",
    "from_currency_dropdown = ttk.OptionMenu(window, from_currency_var, *currencies)\n",
    "from_currency_dropdown.grid(row=0, column=1, padx=10, pady=5)\n",
    "\n"
   ]
  },
  {
   "cell_type": "code",
   "execution_count": 4,
   "metadata": {},
   "outputs": [],
   "source": [
    "# To Currency Label and Dropdown\n",
    "to_currency_label = tk.Label(window, text=\"To Currency:\")\n",
    "to_currency_label.grid(row=1, column=0, padx=10, pady=5)\n",
    "to_currency_var = tk.StringVar(window)\n",
    "to_currency_var.set(currencies[1])\n",
    "to_currency_dropdown = ttk.OptionMenu(window, to_currency_var, *currencies)\n",
    "to_currency_dropdown.grid(row=1, column=1, padx=10, pady=5)\n",
    "\n"
   ]
  },
  {
   "cell_type": "code",
   "execution_count": 5,
   "metadata": {},
   "outputs": [],
   "source": [
    "# Amount Label and Entry\n",
    "amount_label = tk.Label(window, text=\"Amount:\")\n",
    "amount_label.grid(row=2, column=0, padx=10, pady=5)\n",
    "amount_entry = ttk.Entry(window)\n",
    "amount_entry.grid(row=2, column=1, padx=10, pady=5)\n",
    "\n"
   ]
  },
  {
   "cell_type": "code",
   "execution_count": null,
   "metadata": {},
   "outputs": [],
   "source": [
    "# Convert Button\n",
    "convert_button = ttk.Button(window, text=\"Convert\", command=convert_currency)\n",
    "convert_button.grid(row=3, column=0, columnspan=2, padx=10, pady=5)\n",
    "\n",
    "# Result Label\n",
    "result_label = tk.Label(window, text=\"\", font=('Helvetica', 14))\n",
    "result_label.grid(row=4, column=0, columnspan=2, padx=10, pady=5)\n",
    "\n",
    "# Start the main event loop\n",
    "window.mainloop()"
   ]
  }
 ],
 "metadata": {
  "kernelspec": {
   "display_name": "Python 3",
   "language": "python",
   "name": "python3"
  },
  "language_info": {
   "codemirror_mode": {
    "name": "ipython",
    "version": 3
   },
   "file_extension": ".py",
   "mimetype": "text/x-python",
   "name": "python",
   "nbconvert_exporter": "python",
   "pygments_lexer": "ipython3",
   "version": "3.11.4"
  },
  "orig_nbformat": 4
 },
 "nbformat": 4,
 "nbformat_minor": 2
}
