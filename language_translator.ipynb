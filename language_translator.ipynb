{
 "cells": [
  {
   "cell_type": "code",
   "execution_count": 9,
   "metadata": {},
   "outputs": [],
   "source": [
    "import tkinter as tk\n",
    "from googletrans import Translator\n",
    "\n",
    "\n",
    "\n"
   ]
  },
  {
   "cell_type": "code",
   "execution_count": 10,
   "metadata": {},
   "outputs": [],
   "source": [
    "def translate_text():\n",
    "    input_text = input_textbox.get(\"1.0\", tk.END).strip()\n",
    "    translator = Translator()\n",
    "    # Detect the source language\n",
    "    source_lang = translator.detect(input_text).lang\n",
    "\n",
    "        # Get the selected language from the dropdown\n",
    "    target_lang = lang_var.get()\n",
    "    # Translate the text\n",
    "    translated_text = translator.translate(input_text, src=source_lang, dest=target_lang)\n",
    "    output_textbox.delete(\"1.0\", tk.END)\n",
    "    output_textbox.insert(tk.END, translated_text.text)\n",
    "   "
   ]
  },
  {
   "cell_type": "code",
   "execution_count": 11,
   "metadata": {},
   "outputs": [],
   "source": [
    "# Create the main window\n",
    "window = tk.Tk()\n",
    "window.title(\"Language Converter\")\n",
    "\n",
    "# Input Textbox\n",
    "input_label = tk.Label(window, text=\"Enter text:\")\n",
    "input_label.pack()\n",
    "input_textbox = tk.Text(window, height=5, width=50)\n",
    "input_textbox.pack()\n",
    "\n"
   ]
  },
  {
   "cell_type": "code",
   "execution_count": 12,
   "metadata": {},
   "outputs": [],
   "source": [
    "# Output Textbox\n",
    "output_label = tk.Label(window, text=\"Translated text:\")\n",
    "output_label.pack()\n",
    "output_textbox = tk.Text(window, height=5, width=50)\n",
    "output_textbox.pack()\n",
    "\n"
   ]
  },
  {
   "cell_type": "code",
   "execution_count": 13,
   "metadata": {},
   "outputs": [],
   "source": [
    "# Language dropdown\n",
    "languages = [\"en\", \"fr\", \"es\", \"de\", \"ja\", \"ko\",\"bengali\"]  # Add more languages as needed\n",
    "lang_var = tk.StringVar(window)\n",
    "lang_var.set(\"en\")  # Default language: English\n",
    "lang_dropdown = tk.OptionMenu(window, lang_var, *languages)\n",
    "lang_dropdown.pack()\n",
    "\n"
   ]
  },
  {
   "cell_type": "code",
   "execution_count": 14,
   "metadata": {},
   "outputs": [],
   "source": [
    "# Translate Button\n",
    "translate_button = tk.Button(window, text=\"Translate\", command=translate_text)\n",
    "translate_button.pack()\n",
    "\n",
    "# Start the main event loop\n",
    "window.mainloop()"
   ]
  }
 ],
 "metadata": {
  "kernelspec": {
   "display_name": "Python 3",
   "language": "python",
   "name": "python3"
  },
  "language_info": {
   "codemirror_mode": {
    "name": "ipython",
    "version": 3
   },
   "file_extension": ".py",
   "mimetype": "text/x-python",
   "name": "python",
   "nbconvert_exporter": "python",
   "pygments_lexer": "ipython3",
   "version": "3.11.4"
  },
  "orig_nbformat": 4
 },
 "nbformat": 4,
 "nbformat_minor": 2
}
